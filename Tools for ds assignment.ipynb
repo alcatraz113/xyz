{
 "cells": [
  {
   "cell_type": "markdown",
   "metadata": {},
   "source": [
    "<center>\n",
    "    <img src=\"https://cf-courses-data.s3.us.cloud-object-storage.appdomain.cloud/IBMDeveloperSkillsNetwork-DS0105EN-SkillsNetwork/labs/Module2/images/SN_web_lightmode.png\" width=\"300\" alt=\"cognitiveclass.ai logo\">\n",
    "</center>\n"
   ]
  },
  {
   "cell_type": "markdown",
   "metadata": {},
   "source": [
    "#Final Assignment for Tools For Data Science"
   ]
  },
  {
   "cell_type": "markdown",
   "metadata": {},
   "source": [
    "#My Name is Vishal. I am Student and I love data science"
   ]
  },
  {
   "cell_type": "markdown",
   "metadata": {},
   "source": [
    "#popular Data Science Languages\n",
    "1. Python\n",
    "2. R\n",
    "3. SQL"
   ]
  },
  {
   "cell_type": "markdown",
   "metadata": {},
   "source": [
    "#Popular Libraries For Data Science\n",
    "1. NumPy\n",
    "2. Pandas\n",
    "3. Matplotlib\n",
    "4. Seaborn\n"
   ]
  },
  {
   "cell_type": "markdown",
   "metadata": {},
   "source": [
    "#Data Science Tools\n",
    "\n",
    "| Category | Tools |\n",
    "|----------|-------|\n",
    "| Data Analysis | NumPy, Pandas |\n",
    "| Data Visualization | Matplotlib, Seaborn |\n",
    "| Machine Learning | Scikit-learn, TensorFlow, Keras |\n",
    "| Deep Learning | PyTorch, TensorFlow |\n",
    "| Natural Language Processing | NLTK, Spacy |"
   ]
  },
  {
   "cell_type": "markdown",
   "metadata": {},
   "source": [
    "#introducing arithmetic expression examples"
   ]
  },
  {
   "cell_type": "code",
   "execution_count": 10,
   "metadata": {},
   "outputs": [
    {
     "name": "stdout",
     "output_type": "stream",
     "text": [
      "Addition of two numers is:  7\n",
      "Multiplication of two numbers is:  10\n"
     ]
    }
   ],
   "source": [
    "a=5\n",
    "b=2\n",
    "print(\"Addition of two numers is: \",a+b)\n",
    "print(\"Multiplication of two numbers is: \",a*b)"
   ]
  },
  {
   "cell_type": "code",
   "execution_count": 11,
   "metadata": {},
   "outputs": [
    {
     "name": "stdout",
     "output_type": "stream",
     "text": [
      "2 Hours 30 Minutes\n"
     ]
    }
   ],
   "source": [
    "minutes = 150\n",
    "\n",
    "hours = minutes // 60\n",
    "minutes = minutes % 60\n",
    "\n",
    "print(hours,\"Hours\",minutes,\"Minutes\")\n"
   ]
  },
  {
   "cell_type": "markdown",
   "metadata": {},
   "source": [
    "##Unordered List is Given As Follows\n",
    "* Item 1\n",
    "* Item 2\n",
    "* Item 3\n",
    "* Item 4\n",
    "* Item 5"
   ]
  },
  {
   "cell_type": "markdown",
   "metadata": {},
   "source": [
    "#Author: Vishal Waghulde"
   ]
  },
  {
   "cell_type": "code",
   "execution_count": null,
   "metadata": {},
   "outputs": [],
   "source": []
  }
 ],
 "metadata": {
  "kernelspec": {
   "display_name": "Python",
   "language": "python",
   "name": "conda-env-python-py"
  },
  "language_info": {
   "codemirror_mode": {
    "name": "ipython",
    "version": 3
   },
   "file_extension": ".py",
   "mimetype": "text/x-python",
   "name": "python",
   "nbconvert_exporter": "python",
   "pygments_lexer": "ipython3",
   "version": "3.7.12"
  }
 },
 "nbformat": 4,
 "nbformat_minor": 4
}
